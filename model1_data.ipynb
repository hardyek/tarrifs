{
 "cells": [
  {
   "cell_type": "code",
   "execution_count": 1,
   "metadata": {},
   "outputs": [],
   "source": [
    "import pandas as pd\n",
    "import requests\n",
    "from functools import reduce"
   ]
  },
  {
   "cell_type": "code",
   "execution_count": 2,
   "metadata": {},
   "outputs": [],
   "source": [
    "interest_periods = [\n",
    "   [\"2016-2021\", \"Soybeans\", \"China\", [\"IL\", \"IA\", \"MN\", \"IN\", \"NE\"], \"2018\", 25],\n",
    "   [\"2016-2021\", \"Corn\", \"China\", [\"IA\", \"IL\", \"NE\", \"MN\", \"IN\"], \"2018\", 25],\n",
    "   [\"2016-2021\", \"Cotton\", \"China\", [\"TX\", \"GA\", \"AR\", \"MS\", \"AL\"], \"2018\", 25],\n",
    "   [\"2016-2021\", \"Wheat\", \"China\", [\"KS\", \"ND\", \"MT\", \"WA\", \"OK\"], \"2018\", 25],\n",
    "   [\"2016-2021\", \"Rice\", \"China\", [\"AR\", \"CA\", \"LA\", \"MS\", \"MO\"], \"2018\", 25],\n",
    "   [\"2014-2019\", \"Rice\", \"EU\", [\"AR\", \"CA\", \"LA\", \"MS\", \"MO\"], \"2015\", 20],\n",
    "   [\"2007-2012\", \"Barley\", \"China\", [\"ID\", \"MT\", \"ND\", \"WY\", \"WA\"], \"2008\", 25],\n",
    "   [\"2011-2016\", \"Cotton\", \"India\", [\"TX\", \"GA\", \"AR\", \"MS\", \"AL\"], \"2012\", 30]\n",
    "]\n",
    "\n",
    "interest_periods_df = pd.DataFrame(interest_periods, columns=['Period', 'Crop', 'Trade Partner', \"States\", \"Effect Year\", \"Tariff Rate\"])"
   ]
  },
  {
   "cell_type": "code",
   "execution_count": 3,
   "metadata": {},
   "outputs": [
    {
     "data": {
      "text/html": [
       "<div>\n",
       "<style scoped>\n",
       "    .dataframe tbody tr th:only-of-type {\n",
       "        vertical-align: middle;\n",
       "    }\n",
       "\n",
       "    .dataframe tbody tr th {\n",
       "        vertical-align: top;\n",
       "    }\n",
       "\n",
       "    .dataframe thead th {\n",
       "        text-align: right;\n",
       "    }\n",
       "</style>\n",
       "<table border=\"1\" class=\"dataframe\">\n",
       "  <thead>\n",
       "    <tr style=\"text-align: right;\">\n",
       "      <th></th>\n",
       "      <th>Period</th>\n",
       "      <th>Crop</th>\n",
       "      <th>Trade Partner</th>\n",
       "      <th>States</th>\n",
       "      <th>Effect Year</th>\n",
       "      <th>Tariff Rate</th>\n",
       "    </tr>\n",
       "  </thead>\n",
       "  <tbody>\n",
       "    <tr>\n",
       "      <th>0</th>\n",
       "      <td>2016-2021</td>\n",
       "      <td>Soybeans</td>\n",
       "      <td>China</td>\n",
       "      <td>[IL, IA, MN, IN, NE]</td>\n",
       "      <td>2018</td>\n",
       "      <td>25</td>\n",
       "    </tr>\n",
       "    <tr>\n",
       "      <th>1</th>\n",
       "      <td>2016-2021</td>\n",
       "      <td>Corn</td>\n",
       "      <td>China</td>\n",
       "      <td>[IA, IL, NE, MN, IN]</td>\n",
       "      <td>2018</td>\n",
       "      <td>25</td>\n",
       "    </tr>\n",
       "    <tr>\n",
       "      <th>2</th>\n",
       "      <td>2016-2021</td>\n",
       "      <td>Cotton</td>\n",
       "      <td>China</td>\n",
       "      <td>[TX, GA, AR, MS, AL]</td>\n",
       "      <td>2018</td>\n",
       "      <td>25</td>\n",
       "    </tr>\n",
       "    <tr>\n",
       "      <th>3</th>\n",
       "      <td>2016-2021</td>\n",
       "      <td>Wheat</td>\n",
       "      <td>China</td>\n",
       "      <td>[KS, ND, MT, WA, OK]</td>\n",
       "      <td>2018</td>\n",
       "      <td>25</td>\n",
       "    </tr>\n",
       "    <tr>\n",
       "      <th>4</th>\n",
       "      <td>2016-2021</td>\n",
       "      <td>Rice</td>\n",
       "      <td>China</td>\n",
       "      <td>[AR, CA, LA, MS, MO]</td>\n",
       "      <td>2018</td>\n",
       "      <td>25</td>\n",
       "    </tr>\n",
       "    <tr>\n",
       "      <th>5</th>\n",
       "      <td>2014-2019</td>\n",
       "      <td>Rice</td>\n",
       "      <td>EU</td>\n",
       "      <td>[AR, CA, LA, MS, MO]</td>\n",
       "      <td>2015</td>\n",
       "      <td>20</td>\n",
       "    </tr>\n",
       "    <tr>\n",
       "      <th>6</th>\n",
       "      <td>2007-2012</td>\n",
       "      <td>Barley</td>\n",
       "      <td>China</td>\n",
       "      <td>[ID, MT, ND, WY, WA]</td>\n",
       "      <td>2008</td>\n",
       "      <td>25</td>\n",
       "    </tr>\n",
       "    <tr>\n",
       "      <th>7</th>\n",
       "      <td>2011-2016</td>\n",
       "      <td>Cotton</td>\n",
       "      <td>India</td>\n",
       "      <td>[TX, GA, AR, MS, AL]</td>\n",
       "      <td>2012</td>\n",
       "      <td>30</td>\n",
       "    </tr>\n",
       "  </tbody>\n",
       "</table>\n",
       "</div>"
      ],
      "text/plain": [
       "      Period      Crop Trade Partner                States Effect Year  \\\n",
       "0  2016-2021  Soybeans         China  [IL, IA, MN, IN, NE]        2018   \n",
       "1  2016-2021      Corn         China  [IA, IL, NE, MN, IN]        2018   \n",
       "2  2016-2021    Cotton         China  [TX, GA, AR, MS, AL]        2018   \n",
       "3  2016-2021     Wheat         China  [KS, ND, MT, WA, OK]        2018   \n",
       "4  2016-2021      Rice         China  [AR, CA, LA, MS, MO]        2018   \n",
       "5  2014-2019      Rice            EU  [AR, CA, LA, MS, MO]        2015   \n",
       "6  2007-2012    Barley         China  [ID, MT, ND, WY, WA]        2008   \n",
       "7  2011-2016    Cotton         India  [TX, GA, AR, MS, AL]        2012   \n",
       "\n",
       "   Tariff Rate  \n",
       "0           25  \n",
       "1           25  \n",
       "2           25  \n",
       "3           25  \n",
       "4           25  \n",
       "5           20  \n",
       "6           25  \n",
       "7           30  "
      ]
     },
     "execution_count": 3,
     "metadata": {},
     "output_type": "execute_result"
    }
   ],
   "source": [
    "interest_periods_df"
   ]
  },
  {
   "cell_type": "markdown",
   "metadata": {},
   "source": [
    "# Pre-downloaded Data"
   ]
  },
  {
   "cell_type": "code",
   "execution_count": 4,
   "metadata": {},
   "outputs": [
    {
     "data": {
      "text/plain": [
       "array(['2016-2021', '2014-2019', '2007-2012', '2011-2016'], dtype=object)"
      ]
     },
     "execution_count": 4,
     "metadata": {},
     "output_type": "execute_result"
    }
   ],
   "source": [
    "interest_periods_df[\"Period\"].unique()"
   ]
  },
  {
   "cell_type": "code",
   "execution_count": 5,
   "metadata": {},
   "outputs": [
    {
     "data": {
      "text/plain": [
       "array(['China', 'EU', 'India'], dtype=object)"
      ]
     },
     "execution_count": 5,
     "metadata": {},
     "output_type": "execute_result"
    }
   ],
   "source": [
    "interest_periods_df[\"Trade Partner\"].unique()"
   ]
  },
  {
   "cell_type": "markdown",
   "metadata": {},
   "source": [
    "Need FX data for USDCNY, USDMXN, USDEUR, USDINR 2000-Current"
   ]
  },
  {
   "cell_type": "code",
   "execution_count": 6,
   "metadata": {},
   "outputs": [
    {
     "data": {
      "text/plain": [
       "array(['Soybeans', 'Corn', 'Cotton', 'Wheat', 'Rice', 'Barley'],\n",
       "      dtype=object)"
      ]
     },
     "execution_count": 6,
     "metadata": {},
     "output_type": "execute_result"
    }
   ],
   "source": [
    "interest_periods_df[\"Crop\"].unique()"
   ]
  },
  {
   "cell_type": "markdown",
   "metadata": {},
   "source": [
    "Need Commodity Price data for above crops 2000-Current"
   ]
  },
  {
   "cell_type": "markdown",
   "metadata": {},
   "source": [
    "# USDA NASS"
   ]
  },
  {
   "cell_type": "code",
   "execution_count": 7,
   "metadata": {},
   "outputs": [],
   "source": [
    "USDA_NASS_KEY = \"BD016300-5F00-3A88-8B4B-C04608B1E1D6\"\n",
    "nass_base_url = f\"https://quickstats.nass.usda.gov/api/api_GET/\""
   ]
  },
  {
   "cell_type": "code",
   "execution_count": 8,
   "metadata": {},
   "outputs": [],
   "source": [
    "def nass_build_request(api_key, params, base_url):\n",
    "    url = f\"{base_url}?key={api_key}\"\n",
    "    for key, value in params.items():\n",
    "        if isinstance(value, list):\n",
    "            value = \",\".join(map(str, value))\n",
    "        url += f\"&{key}={value.replace(' ', '+')}\"\n",
    "    return url\n",
    "\n",
    "def nass_yield_json_to_df(data, state):\n",
    "   df = pd.DataFrame(data)\n",
    "   df = df[df['unit_desc'] == 'BU / ACRE']\n",
    "   df['year'] = pd.to_numeric(df['year'])\n",
    "   df = df[df['year'] <= int(end_year)]\n",
    "\n",
    "   df = df[~df['Value'].str.contains(r'\\(D\\)', na=False)]\n",
    "   df['Value'] = pd.to_numeric(df['Value'].str.replace(',', ''))\n",
    "   \n",
    "   df['reference_period'] = pd.to_datetime(df['year'].astype(str))\n",
    "   df = df.groupby('year')['Value'].mean().reset_index()\n",
    "   df['reference_period'] = pd.to_datetime(df['year'].astype(str))\n",
    "   df = df[['reference_period', 'Value']]\n",
    "   df.columns = ['Date', f'Production_{state}']\n",
    "   return df\n",
    "\n",
    "def nass_production_json_to_df(data, state):\n",
    "   df = pd.DataFrame(data)\n",
    "   df = df[df['unit_desc'] == 'BU'] \n",
    "   df['year'] = pd.to_numeric(df['year'])\n",
    "   df = df[df['year'] <= int(end_year)]\n",
    "   \n",
    "   df = df[~df['Value'].str.contains(r'\\(D\\)', na=False)]\n",
    "   df['Value'] = pd.to_numeric(df['Value'].str.replace(',', ''))\n",
    "   \n",
    "   df['reference_period'] = pd.to_datetime(df['year'].astype(str))\n",
    "   df = df.groupby('year')['Value'].mean().reset_index()\n",
    "   df['reference_period'] = pd.to_datetime(df['year'].astype(str))\n",
    "   df = df[['reference_period', 'Value']]\n",
    "   df.columns = ['Date', f'Production_{state}']\n",
    "   return df\n",
    "\n",
    "\n",
    "for row in interest_periods_df.values:\n",
    "    \n",
    "    all_yield_dfs = []\n",
    "    all_production_dfs = []\n",
    "\n",
    "    start_year, end_year = row[0].split(\"-\")[0], row[0].split(\"-\")[1]\n",
    "    commodity = row[1].upper()\n",
    "    state_alphas = row[3]\n",
    "\n",
    "    for state in state_alphas:\n",
    "        params = {\n",
    "            \"commodity_desc\": commodity,\n",
    "            \"year__GE\": start_year,\n",
    "            \"year__LE\": end_year,\n",
    "            \"statisticcat_desc\": \"YIELD\",\n",
    "            \"state_alpha\": state\n",
    "            }\n",
    "\n",
    "        url = nass_build_request(USDA_NASS_KEY, params, nass_base_url)\n",
    "        response = requests.get(url)\n",
    "        \n",
    "        state_df = nass_yield_json_to_df(response.json()['data'], state)\n",
    "        all_yield_dfs.append(state_df)\n",
    "\n",
    "        params = {\n",
    "            \"commodity_desc\": commodity,\n",
    "            \"year__GE\": start_year,\n",
    "            \"year__LE\": end_year,\n",
    "            \"statisticcat_desc\": \"PRODUCTION\",\n",
    "            \"state_alpha\": state\n",
    "            }\n",
    "        \n",
    "        url = nass_build_request(USDA_NASS_KEY, params, nass_base_url)\n",
    "        response = requests.get(url)\n",
    "        state_df = nass_production_json_to_df(response.json()['data'], state)\n",
    "        all_production_dfs.append(state_df)\n",
    "        \n",
    "    \n",
    "    yield_df = reduce(lambda left, right: pd.merge(left, right, on='Date', how='outer'), all_yield_dfs)\n",
    "    production_df = reduce(lambda left, right: pd.merge(left, right, on='Date', how='outer'), all_production_dfs)\n",
    "\n",
    "    final_df = pd.DataFrame({\n",
    "    'Date': yield_df['Date'],\n",
    "    'Average_Yield': yield_df.filter(like='Yield_').mean(axis=1),\n",
    "    'Average_Production': production_df.filter(like='Production_').mean(axis=1)\n",
    "    })\n",
    "    final_df.to_csv(f\"datasets/model1/USDA_NASS/{row[0]}-{commodity}.csv\", index=False)"
   ]
  },
  {
   "cell_type": "markdown",
   "metadata": {},
   "source": [
    "# USDA FAS"
   ]
  },
  {
   "cell_type": "code",
   "execution_count": null,
   "metadata": {},
   "outputs": [],
   "source": [
    "USDA_FAS_KEY = \"dNaDKzvoHmPLHDlEIbugYSWufZvp0fH6hZWe6GdD\"\n",
    "fas_base_url = f\"https://api.fas.usda.gov/api/esr/commodities\"\n",
    "\n",
    "headers = {\n",
    "   'accept': 'application/json',\n",
    "   'X-Api-Key': USDA_FAS_KEY\n",
    "}"
   ]
  },
  {
   "cell_type": "code",
   "execution_count": 10,
   "metadata": {},
   "outputs": [],
   "source": [
    "commodity_codes = {\n",
    "    \"WHEAT\" : [101,102,103,104,105,106,107,201],\n",
    "    \"BARLEY\" : [301],\n",
    "    \"CORN\": [401],\n",
    "    \"SOYBEANS\"  : [801,901,902],\n",
    "    \"COTTON\" : [1201,1202,1203,1301,1401,1402,1403,1404],\n",
    "    \"RICE\" : [1498,1499,1501,1502,1504,1505]\n",
    "}\n",
    "country_codes = {\n",
    "    \"EU\" : 1,\n",
    "    \"MEXICO\" : 2010,\n",
    "    \"INDIA\" : 5330,\n",
    "    \"CHINA\" : 5700\n",
    "}"
   ]
  },
  {
   "cell_type": "code",
   "execution_count": 12,
   "metadata": {},
   "outputs": [],
   "source": [
    "def fas_trade_to_df(data):\n",
    "   if not data or 'results' in data:\n",
    "       return pd.DataFrame()\n",
    "       \n",
    "   df = pd.DataFrame(data)\n",
    "   required_cols = ['weekEndingDate', 'weeklyExports', 'accumulatedExports', 'outstandingSales', 'grossNewSales']\n",
    "   \n",
    "   if not all(col in df.columns for col in required_cols):\n",
    "       return pd.DataFrame()\n",
    "   \n",
    "   df['weekEndingDate'] = pd.to_datetime(df['weekEndingDate'])\n",
    "   df['month'] = df['weekEndingDate'].dt.to_period('M')\n",
    "   \n",
    "   monthly_data = df.groupby('month').agg({\n",
    "       'weeklyExports': 'sum',\n",
    "       'accumulatedExports': 'last', \n",
    "       'outstandingSales': 'last',\n",
    "       'grossNewSales': 'sum'\n",
    "   }).reset_index()\n",
    "   \n",
    "   monthly_data['month'] = monthly_data['month'].astype(str)\n",
    "   monthly_data['Date'] = pd.to_datetime(monthly_data['month'])\n",
    "   return monthly_data[['Date', 'weeklyExports', 'accumulatedExports', 'outstandingSales', 'grossNewSales']]"
   ]
  },
  {
   "cell_type": "code",
   "execution_count": 14,
   "metadata": {},
   "outputs": [],
   "source": [
    "for index, row in interest_periods_df.iterrows():\n",
    "   start_year, end_year = row['Period'].split('-')\n",
    "   commodity_codes_list = commodity_codes[row['Crop'].upper()]\n",
    "   country_code = country_codes[row['Trade Partner'].upper()]\n",
    "   \n",
    "   all_data = []\n",
    "   for year in range(int(start_year), int(end_year)+1):\n",
    "       monthly_totals = None\n",
    "       \n",
    "       for commodity_code in commodity_codes_list:\n",
    "           url = f\"https://api.fas.usda.gov/api/esr/exports/commodityCode/{commodity_code}/countryCode/{country_code}/marketYear/{year}\"\n",
    "           response = requests.get(url, headers=headers)\n",
    "           \n",
    "           if response.status_code == 200 and response.json():\n",
    "               df = fas_trade_to_df(response.json())\n",
    "               if not df.empty:\n",
    "                   if monthly_totals is None:\n",
    "                       monthly_totals = df\n",
    "                   else:\n",
    "                       numeric_cols = ['weeklyExports', 'accumulatedExports', 'outstandingSales', 'grossNewSales']\n",
    "                       monthly_totals[numeric_cols] += df[numeric_cols]\n",
    "       \n",
    "       if monthly_totals is not None:\n",
    "           all_data.append(monthly_totals)\n",
    "           \n",
    "   if all_data:\n",
    "       final_df = pd.concat(all_data).sort_values('Date')\n",
    "       final_df['Commodity'] = row['Crop']\n",
    "       final_df['Country'] = row['Trade Partner']\n",
    "       final_df.to_csv(f\"datasets/model1/USDA_FAS/{row['Period']}-{row['Crop'].upper()}.csv\", index=False)"
   ]
  },
  {
   "cell_type": "markdown",
   "metadata": {},
   "source": [
    "# USDA ARMS"
   ]
  },
  {
   "cell_type": "code",
   "execution_count": 15,
   "metadata": {},
   "outputs": [],
   "source": [
    "USDA_ARMS_KEY = \"FeoZKsLJQrekDhA6rMUukEbVdqGezgKfagzdXZCE\"\n",
    "arms_base_url = \"https://api.ers.usda.gov/data/arms/surveydata\""
   ]
  },
  {
   "cell_type": "code",
   "execution_count": 18,
   "metadata": {},
   "outputs": [],
   "source": [
    "def arms_build_request(api_key, params, arms_base_url):\n",
    "   \"\"\"\n",
    "   Constructs the API request URL with the given parameters.\n",
    "   \"\"\"\n",
    "   url = f\"{arms_base_url}?api_key={api_key}\"\n",
    "   for key, value in params.items():\n",
    "       if isinstance(value, list):\n",
    "           value = \",\".join(map(str, value))\n",
    "       url += f\"&{key}={value.replace(' ', '+')}\"\n",
    "   return url\n",
    "\n",
    "def fetch_data(api_key, params):\n",
    "   \"\"\"\n",
    "   Fetches data from the API using the constructed request.\n",
    "   \"\"\"\n",
    "   url = arms_build_request(api_key, params, arms_base_url)\n",
    "   print(f\"Request URL: {url}\")  # Debugging: Print the request URL\n",
    "\n",
    "\n",
    "   response = requests.get(url)\n",
    "\n",
    "\n",
    "   if response.status_code == 200:\n",
    "       print(\"Request successful!\")\n",
    "       return response.json()\n",
    "   else:\n",
    "       print(f\"Error: Received status code {response.status_code}\")\n",
    "       print(f\"Response text: {response.text}\")\n",
    "       return None\n",
    "   \n",
    "def json_to_df(data):\n",
    "   \"\"\"\n",
    "   Converts JSON data to a pandas DataFrame.\n",
    "   \"\"\"\n",
    "   df = pd.DataFrame(data)\n",
    "   print(\"Available columns:\", df.columns)  # Debugging: Check available columns\n",
    "\n",
    "\n",
    "   # Ensure required columns exist in the DataFrame\n",
    "   if 'stat_Year' in df.columns and 'estimate' in df.columns:\n",
    "       df['Year'] = df['stat_Year']\n",
    "       df['Value'] = pd.to_numeric(df['estimate'], errors='coerce')\n",
    "       return df\n",
    "   else:\n",
    "       print(\"Error: Required columns are missing from the data.\")\n",
    "       return None"
   ]
  },
  {
   "cell_type": "code",
   "execution_count": 26,
   "metadata": {},
   "outputs": [
    {
     "name": "stdout",
     "output_type": "stream",
     "text": [
      "Request URL: https://api.ers.usda.gov/data/arms/surveydata?api_key=FeoZKsLJQrekDhA6rMUukEbVdqGezgKfagzdXZCE&year=2000,2001,2002,2003,2004,2005,2006,2007,2008,2009,2010,2011,2012,2013,2014,2015,2016,2017,2018,2019,2020,2021,2022,2023&state=MN&variable=vprodtot,igcfi,incfi,infi,etot,evtot,accrop,ivalinv,icrop,frwcnum,tacres,efrent,evcwork,evfertc,evseedp,atot,dtot,frdanum,frcrnum&statisticcat_desc=ALL&report=Farm+Business+Income+Statement\n",
      "Request successful!\n",
      "Available columns: Index(['stat_Year', 'stateName', 'reportName', 'farmType', 'category',\n",
      "       'categoryValue', 'category2', 'category2Value', 'variableId',\n",
      "       'variableName', 'variableSequence', 'variableLevel', 'variableGroup',\n",
      "       'variableGroupId', 'variableUnit', 'variableDesc', 'variableIsInValid',\n",
      "       'estimate', 'median', 'statistic', 'rse', 'unreliable_Est', 'dec_Disp',\n",
      "       'series', 'serie_Dim', 'series2', 'serie2_Dim', 'series_Element',\n",
      "       'serie_Element_Dim', 'series2_Element', 'serie2_Element_Dim', 'fips_St',\n",
      "       'survey_Abb', 'survey_Dim', 'subject_Num', 'subject_Dim', 'topic_Abb',\n",
      "       'variable', 'topic_Dim', 'report_Num', 'report_Dim', 'state'],\n",
      "      dtype='object')\n",
      "Number of duplicates: 6952\n"
     ]
    }
   ],
   "source": [
    "params = {\n",
    "       \"year\": list(range(2000,2024)),\n",
    "       \"state\": \"MN\",\n",
    "       \"variable\": \"vprodtot,igcfi,incfi,infi,etot,evtot,accrop,ivalinv,icrop,frwcnum,tacres,efrent,evcwork,evfertc,evseedp,atot,dtot,frdanum,frcrnum\",\n",
    "       \"statisticcat_desc\": \"ALL\",\n",
    "       \"report\": \"Farm Business Income Statement\"\n",
    "   }\n",
    "response_data = fetch_data(USDA_ARMS_KEY, params)\n",
    "arms_data = json_to_df(response_data[\"data\"])\n",
    "if arms_data is not None:\n",
    "    # Check for duplicates\n",
    "    print(\"Number of duplicates:\", arms_data.duplicated(subset=['Year', 'variable']).sum())\n",
    "    # Handle duplicates by keeping the mean estimate per 'Year' and 'variable'\n",
    "    arms_data = (\n",
    "        arms_data.groupby(['Year', 'variable'], as_index=False)\n",
    "        .agg({'Value': 'mean'})  # Aggregate duplicate entries\n",
    "    )\n",
    "\n",
    "\n",
    "    # Pivot the data\n",
    "    arms_data = arms_data.pivot(index='Year', columns='variable', values='Value')"
   ]
  },
  {
   "cell_type": "code",
   "execution_count": 28,
   "metadata": {},
   "outputs": [],
   "source": [
    "arms_data.to_csv(\"datasets/model1/USDA_ARMS_DATAPOINTS.csv\")"
   ]
  },
  {
   "cell_type": "markdown",
   "metadata": {},
   "source": [
    "### FULL DATA DESCRIPTION"
   ]
  },
  {
   "cell_type": "markdown",
   "metadata": {},
   "source": [
    "#### Market Pricing [Daily]\n",
    "- BARLEY\n",
    "- CORN\n",
    "- COTTON\n",
    "- RICE\n",
    "- SOYBEANS\n",
    "- WHEAT\n",
    "\n",
    "#### FX Rates [Daily]\n",
    "- USDCNY\n",
    "- USDEUR\n",
    "- USDINR\n",
    "- USDMXN\n",
    "\n",
    "#### USDA_FAS [Monthly]\n",
    "- monthlyExports\n",
    "- accumulatedExports\n",
    "- outstandingSales\n",
    "- grossNewSales\n",
    "\n",
    "#### USDA_NASS [Annual]\n",
    "- Average_Yield\n",
    "- Average_Production\n",
    "\n",
    "#### USDA_ARMS [Annual]\n",
    "- Crop sales\n",
    "- Fertilizer and chemicals\n",
    "- Gross cash farm income\n",
    "- Machine-hire and custom work\n",
    "- Net cash farm income\n",
    "- Net farm income\n",
    "- Rent \n",
    "\n",
    "#### Other\n",
    "- Agricultural Raw Material Price Index [Daily] IMF\n",
    "- Drought Index [Tridaily] https://www.climate.gov/maps-data/data-snapshots/data-source/drought-monitor\n",
    "- Fed Funds Interest Rate [Monthly] \n",
    "- Food Price Index [Daily] IMF\n",
    "- IGC Grain and Oilseeds Index [Daily] https://www.igc.int/markets/marketinfo-goi.aspx"
   ]
  },
  {
   "cell_type": "markdown",
   "metadata": {},
   "source": []
  }
 ],
 "metadata": {
  "kernelspec": {
   "display_name": "base",
   "language": "python",
   "name": "python3"
  },
  "language_info": {
   "codemirror_mode": {
    "name": "ipython",
    "version": 3
   },
   "file_extension": ".py",
   "mimetype": "text/x-python",
   "name": "python",
   "nbconvert_exporter": "python",
   "pygments_lexer": "ipython3",
   "version": "3.12.4"
  }
 },
 "nbformat": 4,
 "nbformat_minor": 2
}
